{
 "cells": [
  {
   "cell_type": "code",
   "execution_count": 26,
   "metadata": {},
   "outputs": [
    {
     "data": {
      "text/plain": [
       "<torch._C.Generator at 0x1d987325af0>"
      ]
     },
     "execution_count": 26,
     "metadata": {},
     "output_type": "execute_result"
    }
   ],
   "source": [
    "import torch\n",
    "import torch.nn as nn\n",
    "import torch.nn.functional as F\n",
    "import torch.optim as optim\n",
    "\n",
    "torch.manual_seed(1)"
   ]
  },
  {
   "cell_type": "code",
   "execution_count": 33,
   "metadata": {},
   "outputs": [
    {
     "name": "stdout",
     "output_type": "stream",
     "text": [
      "{'The': 0, 'dog': 1, 'ate': 2, 'the': 3, 'apple': 4, 'Everybody': 5, 'read': 6, 'that': 7, 'book': 8}\n",
      "{'T': 0, 'h': 1, 'e': 2, 'd': 3, 'o': 4, 'g': 5, 'a': 6, 't': 7, 'p': 8, 'l': 9, 'E': 10, 'v': 11, 'r': 12, 'y': 13, 'b': 14, 'k': 15}\n"
     ]
    }
   ],
   "source": [
    "def prepare_char_sequence(word, to_idx):\n",
    "    idxs = [to_idx[char] for char in word]\n",
    "    return torch.tensor(idxs, dtype=torch.long)\n",
    "\n",
    "def prepare_sequence(seq, to_idx):\n",
    "    word_idxs = [to_idx[word] for word in seq]\n",
    "    char_idxs = [prepare_char_sequence(word, char_to_idx) for word in seq]\n",
    "    return torch.tensor(word_idxs, dtype=torch.long), char_idxs\n",
    "\n",
    "training_data = [\n",
    "    (\"The dog ate the apple\".split(), [\"DET\", \"NN\", \"V\", \"DET\", \"NN\"]),\n",
    "    (\"Everybody read that book\".split(), [\"NN\", \"V\", \"DET\", \"NN\"])\n",
    "]\n",
    "\n",
    "word_to_idx = {}\n",
    "char_to_idx = {}\n",
    "for sen, tags in training_data:\n",
    "    for word in sen:\n",
    "        if word not in word_to_idx:\n",
    "            word_to_idx[word] = len(word_to_idx)\n",
    "        for char in word:\n",
    "            if char not in char_to_idx:\n",
    "                char_to_idx[char] = len(char_to_idx)\n",
    "            \n",
    "print(word_to_idx)\n",
    "print(char_to_idx)\n",
    "\n",
    "tag_to_idx = {'DET':0,'NN':1,'V':2}\n",
    "\n",
    "WORD_EMBEDDING_DIM = 5\n",
    "CHAR_EMBEDDING_DIM = 5\n",
    "WORD_HIDDEN_DIM = 6\n",
    "CHAR_HIDDEN_DIM = 3"
   ]
  },
  {
   "cell_type": "code",
   "execution_count": 83,
   "metadata": {},
   "outputs": [],
   "source": [
    "class LSTMTagger(nn.Module):\n",
    "    \"\"\"\n",
    "    char_lstm 用于获取单词在char级别的特征，然后拼接成word输入到第二个word_lstm\n",
    "    所以char_lstm使用word_lstm的loss_function, 也不需要线性层和softmax层\n",
    "    \"\"\"\n",
    "    def __init__(self, char_embedding_dim, word_embedding_dim, \\\n",
    "                 char_hidden_dim, word_hidden_dim, char_size, \\\n",
    "                 vocab_size, tagset_size):\n",
    "        super(LSTMTagger, self).__init__()\n",
    "        self.char_embedding_dim = char_embedding_dim\n",
    "        self.word_embedding_dim = word_embedding_dim\n",
    "        self.char_hidden_dim = char_hidden_dim\n",
    "        self.word_hidden_dim  = word_hidden_dim\n",
    "        self.char_embeddings = nn.Embedding(char_size, char_embedding_dim)\n",
    "        self.word_embeddings = nn.Embedding(vocab_size, word_embedding_dim)\n",
    "        \n",
    "        self.char_lstm = nn.LSTM(char_embedding_dim, char_hidden_dim)\n",
    "        self.word_lstm = nn.LSTM(word_embedding_dim+char_hidden_dim, word_hidden_dim)\n",
    "        \n",
    "        self.hidden2tag = nn.Linear(word_hidden_dim, tagset_size)\n",
    "        self.char_hidden = self.init_hidden(self.char_hidden_dim)\n",
    "        self.word_hidden = self.init_hidden(self.word_hidden_dim)\n",
    "    \n",
    "    \n",
    "    def init_hidden(self, hidden_dim):\n",
    "        \"\"\"\n",
    "        初始化隐层（？）\n",
    "        \"\"\"\n",
    "        return(torch.zeros(1, 1, hidden_dim),\n",
    "               torch.zeros(1, 1, hidden_dim))\n",
    "    \n",
    "    \n",
    "    def forward(self,sentence):\n",
    "        char_lstm_result = []\n",
    "        for word in sentence[1]:\n",
    "            # 使用第一个LSTM抽取char level的信息，作为char embedding，拼凑成word embedding\n",
    "            self.char_hidden = self.init_hidden(self.char_hidden_dim)\n",
    "            char_embeds = self.char_embeddings(word)\n",
    "            char_lstm_out, self.char_hidden = self.char_lstm(char_embeds.view(len(word), 1, -1),\\\n",
    "                                                             self.char_hidden)\n",
    "            char_lstm_result.append(char_lstm_out[-1])\n",
    "        \n",
    "        word_embeds = self.word_embeddings(sentence[0])\n",
    "        char_lstm_result = torch.stack(char_lstm_result) # 连接所有char_lstm_out\n",
    "        lstm_in = torch.cat((word_embeds.view(len(sentence[0]), 1, -1), char_lstm_result),2)\n",
    "        lstm_out, self.hidden = self.word_lstm(lstm_in, self.word_hidden)\n",
    "        tag_space = self.hidden2tag(lstm_out.view(len(sentence[0]),-1))\n",
    "        tag_scores = F.log_softmax(tag_space, dim = 1)\n",
    "        return tag_scores"
   ]
  },
  {
   "cell_type": "code",
   "execution_count": 84,
   "metadata": {},
   "outputs": [],
   "source": [
    "model = LSTMTagger(CHAR_EMBEDDING_DIM, WORD_EMBEDDING_DIM, CHAR_HIDDEN_DIM, WORD_HIDDEN_DIM, len(char_to_idx), len(word_to_idx), len(tag_to_idx))\n",
    "loss_function = nn.NLLLoss()\n",
    "optimizer = optim.SGD(model.parameters(), lr = 0.1)"
   ]
  },
  {
   "cell_type": "code",
   "execution_count": 85,
   "metadata": {},
   "outputs": [
    {
     "name": "stdout",
     "output_type": "stream",
     "text": [
      "tensor([[-0.8977, -1.5980, -0.9411],\n",
      "        [-0.9097, -1.5934, -0.9311],\n",
      "        [-0.8446, -1.5566, -1.0233],\n",
      "        [-0.8484, -1.6203, -0.9833],\n",
      "        [-0.9211, -1.5732, -0.9300]])\n"
     ]
    }
   ],
   "source": [
    "with torch.no_grad():\n",
    "    inputs = prepare_sequence(training_data[0][0], word_to_idx)\n",
    "    tag_scores = model(inputs)\n",
    "    print(tag_scores)"
   ]
  },
  {
   "cell_type": "code",
   "execution_count": 86,
   "metadata": {},
   "outputs": [
    {
     "name": "stdout",
     "output_type": "stream",
     "text": [
      "tensor([[-0.0342, -5.3100, -3.5510],\n",
      "        [-5.3969, -0.0221, -4.0582],\n",
      "        [-2.8627, -3.0031, -0.1129],\n",
      "        [-0.0303, -5.7669, -3.6241],\n",
      "        [-7.0610, -0.0192, -4.0078]])\n",
      "Wall time: 4.37 s\n"
     ]
    }
   ],
   "source": [
    "%%time\n",
    "for epoch in range(300):\n",
    "    for sentence, tags in training_data:\n",
    "        model.zero_grad()\n",
    "        model.hidden = model.init_hidden(WORD_EMBEDDING_DIM)\n",
    "        sentence_in = prepare_sequence(sentence, word_to_idx)\n",
    "        targets = prepare_char_sequence(tags, tag_to_idx)\n",
    "        tag_scores = model(sentence_in)\n",
    "\n",
    "        loss = loss_function(tag_scores, targets)\n",
    "        loss.backward()\n",
    "        optimizer.step()\n",
    "\n",
    "with torch.no_grad():\n",
    "    inputs = prepare_sequence(training_data[0][0], word_to_idx)\n",
    "    tag_scores = model(inputs)\n",
    "    print(tag_scores)"
   ]
  }
 ],
 "metadata": {
  "kernelspec": {
   "display_name": "Python 3",
   "language": "python",
   "name": "python3"
  },
  "language_info": {
   "codemirror_mode": {
    "name": "ipython",
    "version": 3
   },
   "file_extension": ".py",
   "mimetype": "text/x-python",
   "name": "python",
   "nbconvert_exporter": "python",
   "pygments_lexer": "ipython3",
   "version": "3.7.1"
  }
 },
 "nbformat": 4,
 "nbformat_minor": 2
}
