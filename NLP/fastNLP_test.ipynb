{
 "cells": [
  {
   "cell_type": "code",
   "execution_count": 2,
   "metadata": {},
   "outputs": [],
   "source": [
    "from fastNLP import DataSet\n",
    "\n",
    "data_path = './data/sample_dataset.csv'\n",
    "ds = DataSet.read_csv(data_path, headers=('raw_sentence','label'), sep='\\t')"
   ]
  },
  {
   "cell_type": "code",
   "execution_count": 3,
   "metadata": {},
   "outputs": [
    {
     "data": {
      "text/plain": [
       "{'raw_sentence': This quiet , introspective and entertaining independent is worth seeking . type=str,\n",
       "'label': 4 type=str}"
      ]
     },
     "execution_count": 3,
     "metadata": {},
     "output_type": "execute_result"
    }
   ],
   "source": [
    "ds[1]"
   ]
  },
  {
   "cell_type": "code",
   "execution_count": 8,
   "metadata": {},
   "outputs": [
    {
     "data": {
      "text/plain": [
       "DataSet({'raw_sentence': a series of escapades demonstrating the adage that what is good for the goose is also good for the gander , some of which occasionally amuses but none of which amounts to much of a story . type=str,\n",
       "'label': 1 type=str,\n",
       "'label_seq': 1 type=int,\n",
       "'words': ['a', 'series', 'of', 'escapades', 'demonstrating', 'the', 'adage', 'that', 'what', 'is', 'good', 'for', 'the', 'goose', 'is', 'also', 'good', 'for', 'the', 'gander', ',', 'some', 'of', 'which', 'occasionally', 'amuses', 'but', 'none', 'of', 'which', 'amounts', 'to', 'much', 'of', 'a', 'story', '.'] type=list},\n",
       "{'raw_sentence': this quiet , introspective and entertaining independent is worth seeking . type=str,\n",
       "'label': 4 type=str,\n",
       "'label_seq': 4 type=int,\n",
       "'words': ['this', 'quiet', ',', 'introspective', 'and', 'entertaining', 'independent', 'is', 'worth', 'seeking', '.'] type=list},\n",
       "{'raw_sentence': even fans of ismail merchant 's work , i suspect , would have a hard time sitting through this one . type=str,\n",
       "'label': 1 type=str,\n",
       "'label_seq': 1 type=int,\n",
       "'words': ['even', 'fans', 'of', 'ismail', 'merchant', \"'s\", 'work', ',', 'i', 'suspect', ',', 'would', 'have', 'a', 'hard', 'time', 'sitting', 'through', 'this', 'one', '.'] type=list},\n",
       "{'raw_sentence': a positively thrilling combination of ethnography and all the intrigue , betrayal , deceit and murder of a shakespearean tragedy or a juicy soap opera . type=str,\n",
       "'label': 3 type=str,\n",
       "'label_seq': 3 type=int,\n",
       "'words': ['a', 'positively', 'thrilling', 'combination', 'of', 'ethnography', 'and', 'all', 'the', 'intrigue', ',', 'betrayal', ',', 'deceit', 'and', 'murder', 'of', 'a', 'shakespearean', 'tragedy', 'or', 'a', 'juicy', 'soap', 'opera', '.'] type=list},\n",
       "{'raw_sentence': aggressive self-glorification and a manipulative whitewash . type=str,\n",
       "'label': 1 type=str,\n",
       "'label_seq': 1 type=int,\n",
       "'words': ['aggressive', 'self-glorification', 'and', 'a', 'manipulative', 'whitewash', '.'] type=list}\n",
       "...\n",
       "{'raw_sentence': it 's like going to a house party and watching the host defend himself against a frothing ex-girlfriend . type=str,\n",
       "'label': 1 type=str,\n",
       "'label_seq': 1 type=int,\n",
       "'words': ['it', \"'s\", 'like', 'going', 'to', 'a', 'house', 'party', 'and', 'watching', 'the', 'host', 'defend', 'himself', 'against', 'a', 'frothing', 'ex-girlfriend', '.'] type=list},\n",
       "{'raw_sentence': that the chuck norris `` grenade gag '' occurs about 7 times during windtalkers is a good indication of how serious-minded the film is . type=str,\n",
       "'label': 2 type=str,\n",
       "'label_seq': 2 type=int,\n",
       "'words': ['that', 'the', 'chuck', 'norris', '``', 'grenade', 'gag', \"''\", 'occurs', 'about', '7', 'times', 'during', 'windtalkers', 'is', 'a', 'good', 'indication', 'of', 'how', 'serious-minded', 'the', 'film', 'is', '.'] type=list},\n",
       "{'raw_sentence': the plot is romantic comedy boilerplate from start to finish . type=str,\n",
       "'label': 2 type=str,\n",
       "'label_seq': 2 type=int,\n",
       "'words': ['the', 'plot', 'is', 'romantic', 'comedy', 'boilerplate', 'from', 'start', 'to', 'finish', '.'] type=list},\n",
       "{'raw_sentence': it arrives with an impeccable pedigree , mongrel pep , and almost indecipherable plot complications . type=str,\n",
       "'label': 2 type=str,\n",
       "'label_seq': 2 type=int,\n",
       "'words': ['it', 'arrives', 'with', 'an', 'impeccable', 'pedigree', ',', 'mongrel', 'pep', ',', 'and', 'almost', 'indecipherable', 'plot', 'complications', '.'] type=list},\n",
       "{'raw_sentence': a film that clearly means to preach exclusively to the converted . type=str,\n",
       "'label': 2 type=str,\n",
       "'label_seq': 2 type=int,\n",
       "'words': ['a', 'film', 'that', 'clearly', 'means', 'to', 'preach', 'exclusively', 'to', 'the', 'converted', '.'] type=list})"
      ]
     },
     "execution_count": 8,
     "metadata": {},
     "output_type": "execute_result"
    }
   ],
   "source": [
    "ds.apply(lambda x: x['raw_sentence'].lower(), new_field_name='raw_sentence')\n",
    "\n",
    "ds.apply(lambda x: int(x['label']), new_field_name='label_seq',is_target=True)\n",
    "\n",
    "def split_sent(ins):\n",
    "    return ins['raw_sentence'].split()\n",
    "ds.apply(split_sent, new_field_name='words',is_input=True)\n",
    "ds"
   ]
  },
  {
   "cell_type": "code",
   "execution_count": 9,
   "metadata": {},
   "outputs": [
    {
     "name": "stdout",
     "output_type": "stream",
     "text": [
      "Train size: 54\n",
      "Test size: 23\n"
     ]
    }
   ],
   "source": [
    "# 分割训练集/验证集\n",
    "train_data, dev_data = ds.split(0.3)\n",
    "print('Train size:',len(train_data))\n",
    "print('Test size:',len(dev_data))"
   ]
  },
  {
   "cell_type": "code",
   "execution_count": 11,
   "metadata": {},
   "outputs": [],
   "source": [
    "from fastNLP import Vocabulary\n",
    "vocab =  Vocabulary(min_freq=2)\n",
    "train_data.apply(lambda x:[vocab.add(word) for word in x['words']])\n",
    "\n",
    "train_data.apply(lambda x:[vocab.to_index(word) for word in x['words']], new_field_name='word_seq',is_input=True)\n",
    "dev_data.apply(lambda x: [vocab.to_index(word) for word in x['words']], new_field_name='word_seq', is_input=True)"
   ]
  },
  {
   "cell_type": "code",
   "execution_count": 16,
   "metadata": {},
   "outputs": [],
   "source": [
    "from fastNLP.models import CNNText\n",
    "model = CNNText(embed_num=len(vocab), embed_dim=50, num_classes=5, padding=2, dropout=0.1)"
   ]
  },
  {
   "cell_type": "code",
   "execution_count": 21,
   "metadata": {},
   "outputs": [
    {
     "name": "stdout",
     "output_type": "stream",
     "text": [
      "input fields after batch(if batch size is 2):\n",
      "\twords: (1)type:numpy.ndarray (2)dtype:object, (3)shape:(2,) \n",
      "\tword_seq: (1)type:torch.Tensor (2)dtype:torch.int64, (3)shape:torch.Size([2, 37]) \n",
      "target fields after batch(if batch size is 2):\n",
      "\tlabel_seq: (1)type:torch.Tensor (2)dtype:torch.int64, (3)shape:torch.Size([2]) \n",
      "\n",
      "training epochs started 2019-04-02-20-28-18\n"
     ]
    },
    {
     "data": {
      "application/vnd.jupyter.widget-view+json": {
       "model_id": "ca2d1ec4e4e54069a72990c2d111bb86",
       "version_major": 2,
       "version_minor": 0
      },
      "text/plain": [
       "HBox(children=(IntProgress(value=0, layout=Layout(flex='2'), max=6), HTML(value='')), layout=Layout(display='i…"
      ]
     },
     "metadata": {},
     "output_type": "display_data"
    },
    {
     "name": "stdout",
     "output_type": "stream",
     "text": [
      "Evaluation at Epoch 1/3. Step:2/6. AccuracyMetric: acc=0.695652\n",
      "Evaluation at Epoch 2/3. Step:4/6. AccuracyMetric: acc=0.782609\n",
      "Evaluation at Epoch 3/3. Step:6/6. AccuracyMetric: acc=0.73913\n",
      "\n",
      "In Epoch:2/Step:4, got best dev performance:AccuracyMetric: acc=0.782609\n",
      "Reloaded the best model.\n",
      "Train finished!\n"
     ]
    }
   ],
   "source": [
    "from fastNLP import Trainer, CrossEntropyLoss, AccuracyMetric\n",
    "trainer = Trainer(model=model,\n",
    "                  train_data=train_data,\n",
    "                  dev_data=dev_data,\n",
    "                  loss=CrossEntropyLoss(),\n",
    "                  metrics=AccuracyMetric(),\n",
    "#                   epoch=10\n",
    "                )\n",
    "trainer.train()\n",
    "print('Train finished!')    "
   ]
  }
 ],
 "metadata": {
  "kernelspec": {
   "display_name": "Python 3",
   "language": "python",
   "name": "python3"
  },
  "language_info": {
   "codemirror_mode": {
    "name": "ipython",
    "version": 3
   },
   "file_extension": ".py",
   "mimetype": "text/x-python",
   "name": "python",
   "nbconvert_exporter": "python",
   "pygments_lexer": "ipython3",
   "version": "3.7.1"
  }
 },
 "nbformat": 4,
 "nbformat_minor": 2
}
